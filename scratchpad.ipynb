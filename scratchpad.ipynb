{
 "cells": [
  {
   "cell_type": "code",
   "execution_count": 2,
   "metadata": {},
   "outputs": [],
   "source": [
    "import polars as pl\n",
    "import numpy as np\n",
    "import matplotlib.pyplot as plt\n",
    "import os\n",
    "import sys"
   ]
  },
  {
   "cell_type": "code",
   "execution_count": 3,
   "metadata": {},
   "outputs": [
    {
     "data": {
      "text/html": [
       "<div><style>\n",
       ".dataframe > thead > tr > th,\n",
       ".dataframe > tbody > tr > td {\n",
       "  text-align: right;\n",
       "  white-space: pre-wrap;\n",
       "}\n",
       "</style>\n",
       "<small>shape: (5, 8)</small><table border=\"1\" class=\"dataframe\"><thead><tr><th>bleu_score</th><th>prevalence_the</th><th>prevalence_and</th><th>sentence_length</th><th>word_perplexity</th><th>bias_flags</th><th>co_occurrence_example</th><th>global_idx</th></tr><tr><td>i64</td><td>f64</td><td>f64</td><td>i64</td><td>f64</td><td>i64</td><td>i64</td><td>i64</td></tr></thead><tbody><tr><td>0</td><td>0.041958</td><td>0.055944</td><td>143</td><td>-0.017947</td><td>0</td><td>0</td><td>3500000</td></tr><tr><td>0</td><td>0.045977</td><td>0.034483</td><td>174</td><td>-0.017043</td><td>0</td><td>0</td><td>3500001</td></tr><tr><td>0</td><td>0.037975</td><td>0.031646</td><td>158</td><td>-0.016344</td><td>0</td><td>0</td><td>3500002</td></tr><tr><td>0</td><td>0.044444</td><td>0.051852</td><td>135</td><td>-0.024198</td><td>0</td><td>0</td><td>3500003</td></tr><tr><td>0</td><td>0.077419</td><td>0.025806</td><td>155</td><td>-0.01794</td><td>0</td><td>0</td><td>3500004</td></tr></tbody></table></div>"
      ],
      "text/plain": [
       "shape: (5, 8)\n",
       "┌────────────┬────────────┬────────────┬───────────┬───────────┬───────────┬───────────┬───────────┐\n",
       "│ bleu_score ┆ prevalence ┆ prevalence ┆ sentence_ ┆ word_perp ┆ bias_flag ┆ co_occurr ┆ global_id │\n",
       "│ ---        ┆ _the       ┆ _and       ┆ length    ┆ lexity    ┆ s         ┆ ence_exam ┆ x         │\n",
       "│ i64        ┆ ---        ┆ ---        ┆ ---       ┆ ---       ┆ ---       ┆ ple       ┆ ---       │\n",
       "│            ┆ f64        ┆ f64        ┆ i64       ┆ f64       ┆ i64       ┆ ---       ┆ i64       │\n",
       "│            ┆            ┆            ┆           ┆           ┆           ┆ i64       ┆           │\n",
       "╞════════════╪════════════╪════════════╪═══════════╪═══════════╪═══════════╪═══════════╪═══════════╡\n",
       "│ 0          ┆ 0.041958   ┆ 0.055944   ┆ 143       ┆ -0.017947 ┆ 0         ┆ 0         ┆ 3500000   │\n",
       "│ 0          ┆ 0.045977   ┆ 0.034483   ┆ 174       ┆ -0.017043 ┆ 0         ┆ 0         ┆ 3500001   │\n",
       "│ 0          ┆ 0.037975   ┆ 0.031646   ┆ 158       ┆ -0.016344 ┆ 0         ┆ 0         ┆ 3500002   │\n",
       "│ 0          ┆ 0.044444   ┆ 0.051852   ┆ 135       ┆ -0.024198 ┆ 0         ┆ 0         ┆ 3500003   │\n",
       "│ 0          ┆ 0.077419   ┆ 0.025806   ┆ 155       ┆ -0.01794  ┆ 0         ┆ 0         ┆ 3500004   │\n",
       "└────────────┴────────────┴────────────┴───────────┴───────────┴───────────┴───────────┴───────────┘"
      ]
     },
     "execution_count": 3,
     "metadata": {},
     "output_type": "execute_result"
    }
   ],
   "source": [
    "# import data\n",
    "metrics_csv_path = \"data/TinyStories_all_data/batch_metrics.csv\"\n",
    "df = pl.read_csv(metrics_csv_path)\n",
    "df.head(5)"
   ]
  },
  {
   "cell_type": "code",
   "execution_count": 4,
   "metadata": {},
   "outputs": [
    {
     "data": {
      "text/plain": [
       "4900000"
      ]
     },
     "execution_count": 4,
     "metadata": {},
     "output_type": "execute_result"
    }
   ],
   "source": [
    "# unique values for column called global_idx\n",
    "df.select(\"global_idx\").n_unique()"
   ]
  },
  {
   "cell_type": "code",
   "execution_count": 7,
   "metadata": {},
   "outputs": [],
   "source": [
    "# import data\n",
    "test_order_path = \"data/TinyStories_all_data/batch_metrics.csv\"\n",
    "test_order = pl.read_csv(metrics_csv_path)\n",
    "# get the first 500 global_idx values and add to a list\n",
    "test_order_list = test_order.select(\"global_idx\").head(500)[\"global_idx\"].to_list()"
   ]
  },
  {
   "cell_type": "code",
   "execution_count": null,
   "metadata": {},
   "outputs": [],
   "source": []
  }
 ],
 "metadata": {
  "kernelspec": {
   "display_name": "Python 3",
   "language": "python",
   "name": "python3"
  },
  "language_info": {
   "codemirror_mode": {
    "name": "ipython",
    "version": 3
   },
   "file_extension": ".py",
   "mimetype": "text/x-python",
   "name": "python",
   "nbconvert_exporter": "python",
   "pygments_lexer": "ipython3",
   "version": "3.9.18"
  }
 },
 "nbformat": 4,
 "nbformat_minor": 2
}
